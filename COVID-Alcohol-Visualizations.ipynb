{
  "nbformat": 4,
  "nbformat_minor": 0,
  "metadata": {
    "kernelspec": {
      "display_name": "Python 3",
      "language": "python",
      "name": "python3"
    },
    "language_info": {
      "codemirror_mode": {
        "name": "ipython",
        "version": 3
      },
      "file_extension": ".py",
      "mimetype": "text/x-python",
      "name": "python",
      "nbconvert_exporter": "python",
      "pygments_lexer": "ipython3",
      "version": "3.8.5"
    },
    "colab": {
      "name": "FinalGroupProject",
      "provenance": [],
      "collapsed_sections": []
    }
  },
  "cells": [
    {
      "cell_type": "markdown",
      "metadata": {
        "id": "mcEn7YhH9HjD"
      },
      "source": [
        "# Relationship Between Alcohol Consumption & Prevalence of COVID-19 Worldwide"
      ]
    },
    {
      "cell_type": "markdown",
      "metadata": {
        "id": "XsEjkCeg40sO"
      },
      "source": [
        "Arwa Hararwala, Josiah Guy, & Jess Strait"
      ]
    },
    {
      "cell_type": "markdown",
      "metadata": {
        "id": "ZeZH2CWI9HjI"
      },
      "source": [
        "## Project Idea\n",
        "\n",
        "This project will develop a scatterplot that is able to display by country the prevalence of COVID-19 and the percentage of energy intake (kcal) from alcoholic beverages. This plot will show if there is a relationship between countries who consume larger percentages of energy from alcohol and higher rates of COVID-19 prevalence. This project is very relevant to our community, since college students partake in a lot of drinking activities and since COVID-19 is still a large part of our lives. Visual analysis techniques will be used to sort data visually by color and interactively by filtering to show the distinction between continents. Users will be able to leverage this plot to understand where countries and their continents stand in the space of alcohol consumption, COVID-19 prevalence, and the relationship between those two variables."
      ]
    },
    {
      "cell_type": "markdown",
      "metadata": {
        "id": "UnbYX3D_9HjI"
      },
      "source": [
        "### Data Sources (Acknowledgement)\n",
        "\n",
        "<cite> Maria Ren (2020) - \"COVID-19 Healthy Diet Dataset Original Data\". Published online at Kaggle.com. Retrieved from: 'https://www.kaggle.com/mariaren/covid19-healthy-diet-dataset' [Online Resource]</cite>\n",
        "\n",
        "<cite>Max Roser, Hannah Ritchie, Esteban Ortiz-Ospina and Joe Hasell (2020) - \"Coronavirus Pandemic (COVID-19)\". Published online at OurWorldInData.org. Retrieved from: 'https://github.com/owid/covid-19-data/tree/master/public/data' [Online Resource]</cite>\n",
        "    "
      ]
    },
    {
      "cell_type": "markdown",
      "metadata": {
        "id": "bAaizQhl9HjJ"
      },
      "source": [
        "### Programming Sources (Acknowledgement)\n",
        "\n",
        "<cite> Bostock, M., Ogievetsky, V., & Heer, J. (2011). D³ data-driven documents. *IEEE transactions on visualization and computer graphics*, 17(12), 2301-2309.</cite>\n",
        "\n",
        "<cite> J. D. Hunter, \"Matplotlib: A 2D Graphics Environment\", Computing in Science & Engineering, vol. 9, no. 3, pp. 90-95, 2007. https://matplotlib.org/2.0.2/examples/api/barchart_demo.html [Online Resource]</cite>\n",
        "\n",
        "<cite> Jeff Reback, Wes McKinney, jbrockmendel, Joris Van den Bossche, Tom Augspurger, Phillip Cloud, … h-vetinari. (2021, March 2). pandas-dev/pandas: Pandas 1.2.3 (Version v1.2.3). Zenodo. http://doi.org/10.5281/zenodo.4572994 [Online Resource]</cite>\n",
        "\n",
        "<cite> McKinney, Data structures for statistical computing in python, Proceedings of the 9th Python in Science Conference, Volume 445, 2010. https://pandas.pydata.org/docs/reference/api/pandas.DataFrame.merge.html [Online Resource]</cite>\n",
        "\n",
        "http://bl.ocks.org/aaizemberg/78bd3dade9593896a59d"
      ]
    },
    {
      "cell_type": "markdown",
      "metadata": {
        "id": "huEtIG0B9HjJ"
      },
      "source": [
        "## Prototype"
      ]
    },
    {
      "cell_type": "markdown",
      "metadata": {
        "id": "jrgeVmWg9HjJ"
      },
      "source": [
        "![picture](https://drive.google.com/uc?id=1TzZ6LzhlWpAKIJjbYEUlIg6Jgo0pOjqO)"
      ]
    },
    {
      "cell_type": "markdown",
      "metadata": {
        "id": "W0v4XxTk9HjK"
      },
      "source": [
        "#### Write-up\n",
        "\n",
        "The goal of this graph is to show whether or not continents with a higher percentage of COVID cases over their population have been intaking more of a percentage of alcohol in their diet. We look at continents here to give a less granular look to our research question. Are regions of the world intaking more alcohol if more people around them are getting COVID?\n",
        "\n",
        "Our initial idea was to create a side-by-side bar chart. This allowed us to easily identify the categorical variables in our vizualization. Also, since both of our statistics are percentages, these were able to be graphed on the same y-axis. Both represent parts of a whole, yet the whole differs.\n",
        "\n",
        "After further discussion and in class evaluations, we realized that doing a side-by-side bar chart would not be as effective as creating a scatterplot for our data. This would allow us to see the correlation between alcoholic consumtion and covid-19 cases per country. "
      ]
    },
    {
      "cell_type": "markdown",
      "metadata": {
        "id": "Ty_fJlWd9HjK"
      },
      "source": [
        "![picture](https://drive.google.com/uc?id=1wdGeQ4luCmf6Hmagajsfj48eszq6VAFP)"
      ]
    },
    {
      "cell_type": "markdown",
      "metadata": {
        "id": "IV8ZatYM9HjK"
      },
      "source": [
        "#### Write-up\n",
        "\n",
        "This is another prototype that our group had created to see how each country compared to the relationship between higher alcohol consumption rates and covid-19 prevalence. We realize now that we should have made a scatterplot that was able to describe the correlation between alcohol intake and covid-19 prevalence and then have a graphical interaction feature where the viewer could hover over the differnt points to find out the country it was associated with. \n",
        "\n",
        "While these prototypes are not exaclty the format that we will be using for our final scatterplot graph, they were a great starting point for our group to see how countries related to alcohol and covid-19. It gave us a point of inflection as to the different ways of showing the variables of interest in a clear and more effective graphical display."
      ]
    },
    {
      "cell_type": "markdown",
      "metadata": {
        "id": "E6G59sYf9HjK"
      },
      "source": [
        "## Final Graph\n",
        "\n",
        "describe describe describe describe describe describe describe describe describe describe \n"
      ]
    },
    {
      "cell_type": "code",
      "metadata": {
        "id": "2bssmecS9HjL"
      },
      "source": [
        ""
      ],
      "execution_count": null,
      "outputs": []
    },
    {
      "cell_type": "markdown",
      "metadata": {
        "id": "Eme25C5W9HjL"
      },
      "source": [
        "###  Final Write-up\n",
        "\n",
        "final final final final final final final final final final final final "
      ]
    },
    {
      "cell_type": "markdown",
      "metadata": {
        "id": "4oW8Lto59HjL"
      },
      "source": [
        "### Code"
      ]
    },
    {
      "cell_type": "markdown",
      "metadata": {
        "id": "ZSCLWOGCRcI3"
      },
      "source": [
        "##### Data Cleaning Steps"
      ]
    },
    {
      "cell_type": "code",
      "metadata": {
        "colab": {
          "base_uri": "https://localhost:8080/",
          "height": 81
        },
        "id": "VNw0rErhuQ7D",
        "outputId": "a7214f9c-9291-4148-c44a-39e8124b8986"
      },
      "source": [
        "%%html\n",
        "<table>\n",
        "    <tr style=\"background-color:white\">\n",
        "        <td colspan=\"2\" style=\"text-align: center;\"><h1>TITLE</h1></td>\n",
        "    </tr>\n",
        "    <tr style=\"background-color:white\">\n",
        "        <td><div id=\"final\"></div></td><td><div id=\"input\"></div></td>\n",
        "    </tr>\n",
        "    <tr style=\"background-color:white\">\n",
        "        <td colspan=\"2\"><div id=\"legend\"></div></td>\n",
        "    </tr>\n",
        "</table>"
      ],
      "execution_count": null,
      "outputs": [
        {
          "output_type": "display_data",
          "data": {
            "text/html": [
              "<script src='https://d3js.org/d3.v6.min.js'></script>"
            ],
            "text/plain": [
              "<IPython.core.display.HTML object>"
            ]
          },
          "metadata": {
            "tags": []
          }
        },
        {
          "output_type": "display_data",
          "data": {
            "text/html": [
              "<script src='https://d3js.org/d3.v6.min.js'></script>"
            ],
            "text/plain": [
              "<IPython.core.display.HTML object>"
            ]
          },
          "metadata": {
            "tags": []
          }
        },
        {
          "output_type": "display_data",
          "data": {
            "text/html": [
              "<script src='https://d3js.org/d3.v6.min.js'></script>"
            ],
            "text/plain": [
              "<IPython.core.display.HTML object>"
            ]
          },
          "metadata": {
            "tags": []
          }
        },
        {
          "output_type": "display_data",
          "data": {
            "text/html": [
              "<table>\n",
              "    <tr style=\"background-color:white\">\n",
              "        <td colspan=\"2\" style=\"text-align: center;\"><h1>TITLE</h1></td>\n",
              "    </tr>\n",
              "    <tr style=\"background-color:white\">\n",
              "        <td><div id=\"final\"></div></td><td><div id=\"input\"></div></td>\n",
              "    </tr>\n",
              "    <tr style=\"background-color:white\">\n",
              "        <td colspan=\"2\"><div id=\"legend\"></div></td>\n",
              "    </tr>\n",
              "</table>"
            ],
            "text/plain": [
              "<IPython.core.display.HTML object>"
            ]
          },
          "metadata": {
            "tags": []
          }
        }
      ]
    },
    {
      "cell_type": "code",
      "metadata": {
        "id": "s7LreqQiRF_K",
        "colab": {
          "base_uri": "https://localhost:8080/"
        },
        "outputId": "0844a29b-461b-4785-82be-7de36f2485a5"
      },
      "source": [
        "#import libraries \n",
        "import matplotlib.pyplot as plt\n",
        "import pandas as pd\n",
        "import numpy as np\n",
        "from google.colab import drive\n",
        "drive.mount('/content/drive')"
      ],
      "execution_count": null,
      "outputs": [
        {
          "output_type": "stream",
          "text": [
            "Mounted at /content/drive\n"
          ],
          "name": "stdout"
        }
      ]
    },
    {
      "cell_type": "code",
      "metadata": {
        "id": "0mtwaFctRNKw"
      },
      "source": [
        "# read in csv file \n",
        "url = '/content/drive/MyDrive/DS 330 - group folder/Food_Supply_kcal_Data.csv'\n",
        "alcohol_consumed = pd.read_csv(url)\n",
        " \n",
        "url2 = '/content/drive/MyDrive/DS 330 - group folder/owid-covid-data.csv'\n",
        "covid_data = pd.read_csv(url2)\n",
        " \n",
        " \n",
        "alcohol_consumed = alcohol_consumed.fillna(0) # replace all NAs with 0s\n",
        "covid_data = covid_data.fillna(0) # replace all NAs with 0s"
      ],
      "execution_count": null,
      "outputs": []
    },
    {
      "cell_type": "code",
      "metadata": {
        "colab": {
          "base_uri": "https://localhost:8080/",
          "height": 191
        },
        "id": "3bw5eZblFrAP",
        "outputId": "1f334756-8cf8-4cbb-ea96-f41952013b5f"
      },
      "source": [
        "###### Commented out rows below could be used in order to sort by continents ######\n",
        "#from datetime import datetime, timedelta\n",
        " \n",
        " \n",
        " \n",
        "covid_data['date'] = pd.to_datetime(covid_data['date']) #Convert to datetime\n",
        "max_date = covid_data['date'].max() #Constantly update this viz, where it's always pulling from the latest date.\n",
        " \n",
        " \n",
        " \n",
        "latest_covid = covid_data[covid_data['date'] == max_date] #Create latest_covid, a table mapped to latest covid-19 data\n",
        " \n",
        "latest_covid = pd.merge(latest_covid, alcohol_consumed, left_on = \"location\", right_on = \"Country\", how='left')\n",
        " \n",
        " \n",
        " \n",
        "latest_covid = latest_covid.rename(columns = {\"Alcoholic Beverages\":\"alcohol\", \"Country\":\"country\"})\n",
        " \n",
        " \n",
        "covid_country = latest_covid.groupby(['country', 'continent']).agg({'total_cases':'sum', 'alcohol':'mean', 'population':'sum'}).reset_index() #Group_by for Country (used in Graph #6)\n",
        "#covid_continent = latest_covid.groupby(['continent']).agg({'total_cases':'sum', 'alcohol':'mean', 'population':'sum'}).reset_index() #Group_by to look specifically at continents\n",
        "#covid_continent['covid_percent'] = covid_continent.apply(lambda row: (row.total_cases / row.population)*100, axis = 1)\n",
        "covid_country['covid_percent'] = covid_country.apply(lambda row: (row.total_cases / row.population)*100, axis = 1)\n",
        " \n",
        "covid_country.head()"
      ],
      "execution_count": null,
      "outputs": [
        {
          "output_type": "execute_result",
          "data": {
            "text/html": [
              "<div>\n",
              "<style scoped>\n",
              "    .dataframe tbody tr th:only-of-type {\n",
              "        vertical-align: middle;\n",
              "    }\n",
              "\n",
              "    .dataframe tbody tr th {\n",
              "        vertical-align: top;\n",
              "    }\n",
              "\n",
              "    .dataframe thead th {\n",
              "        text-align: right;\n",
              "    }\n",
              "</style>\n",
              "<table border=\"1\" class=\"dataframe\">\n",
              "  <thead>\n",
              "    <tr style=\"text-align: right;\">\n",
              "      <th></th>\n",
              "      <th>country</th>\n",
              "      <th>continent</th>\n",
              "      <th>total_cases</th>\n",
              "      <th>alcohol</th>\n",
              "      <th>population</th>\n",
              "      <th>covid_percent</th>\n",
              "    </tr>\n",
              "  </thead>\n",
              "  <tbody>\n",
              "    <tr>\n",
              "      <th>0</th>\n",
              "      <td>Afghanistan</td>\n",
              "      <td>Asia</td>\n",
              "      <td>56069.0</td>\n",
              "      <td>0.0000</td>\n",
              "      <td>38928341.0</td>\n",
              "      <td>0.144031</td>\n",
              "    </tr>\n",
              "    <tr>\n",
              "      <th>1</th>\n",
              "      <td>Albania</td>\n",
              "      <td>Europe</td>\n",
              "      <td>120022.0</td>\n",
              "      <td>0.9120</td>\n",
              "      <td>2877800.0</td>\n",
              "      <td>4.170616</td>\n",
              "    </tr>\n",
              "    <tr>\n",
              "      <th>2</th>\n",
              "      <td>Algeria</td>\n",
              "      <td>Africa</td>\n",
              "      <td>115970.0</td>\n",
              "      <td>0.0896</td>\n",
              "      <td>43851043.0</td>\n",
              "      <td>0.264463</td>\n",
              "    </tr>\n",
              "    <tr>\n",
              "      <th>3</th>\n",
              "      <td>Angola</td>\n",
              "      <td>Africa</td>\n",
              "      <td>21642.0</td>\n",
              "      <td>1.9388</td>\n",
              "      <td>32866268.0</td>\n",
              "      <td>0.065849</td>\n",
              "    </tr>\n",
              "    <tr>\n",
              "      <th>4</th>\n",
              "      <td>Antigua and Barbuda</td>\n",
              "      <td>North America</td>\n",
              "      <td>1011.0</td>\n",
              "      <td>2.3041</td>\n",
              "      <td>97928.0</td>\n",
              "      <td>1.032391</td>\n",
              "    </tr>\n",
              "  </tbody>\n",
              "</table>\n",
              "</div>"
            ],
            "text/plain": [
              "               country      continent  ...  population  covid_percent\n",
              "0          Afghanistan           Asia  ...  38928341.0       0.144031\n",
              "1              Albania         Europe  ...   2877800.0       4.170616\n",
              "2              Algeria         Africa  ...  43851043.0       0.264463\n",
              "3               Angola         Africa  ...  32866268.0       0.065849\n",
              "4  Antigua and Barbuda  North America  ...     97928.0       1.032391\n",
              "\n",
              "[5 rows x 6 columns]"
            ]
          },
          "metadata": {
            "tags": []
          },
          "execution_count": 4
        }
      ]
    },
    {
      "cell_type": "code",
      "metadata": {
        "id": "9IiejwHCvRwp"
      },
      "source": [
        "dataForD3 = []\n",
        "for index, row in covid_country.iterrows():\n",
        "    dataForD3.append(row.to_dict())"
      ],
      "execution_count": null,
      "outputs": []
    },
    {
      "cell_type": "code",
      "metadata": {
        "colab": {
          "base_uri": "https://localhost:8080/"
        },
        "id": "KiFT3ydceWBE",
        "outputId": "58246d9c-7a4a-41ce-c577-bb1af99715fa"
      },
      "source": [
        "print (dataForD3[0])"
      ],
      "execution_count": null,
      "outputs": [
        {
          "output_type": "stream",
          "text": [
            "{'country': 'Afghanistan', 'continent': 'Asia', 'total_cases': 56069.0, 'alcohol': 0.0, 'population': 38928341.0, 'covid_percent': 0.14403131127524801}\n"
          ],
          "name": "stdout"
        }
      ]
    },
    {
      "cell_type": "code",
      "metadata": {
        "id": "mOez6SyXRKa2"
      },
      "source": [
        "# Enabling D3 in Google Colab\n",
        "from IPython.display import  HTML\n",
        " \n",
        "def load_d3_in_cell_output():\n",
        "  display(HTML(\"<script src='https://d3js.org/d3.v6.min.js'></script>\"))\n",
        "  \n",
        "get_ipython().events.register('pre_run_cell', load_d3_in_cell_output)"
      ],
      "execution_count": null,
      "outputs": []
    },
    {
      "cell_type": "code",
      "metadata": {
        "colab": {
          "base_uri": "https://localhost:8080/",
          "height": 17
        },
        "id": "VXB6mzDc5VQG",
        "outputId": "092d473f-d463-4e5f-c793-abf481606f8b"
      },
      "source": [
        "covid_country.to_csv('final_frame.csv', index = False, header=True)"
      ],
      "execution_count": null,
      "outputs": [
        {
          "output_type": "display_data",
          "data": {
            "text/html": [
              "<script src='https://d3js.org/d3.v6.min.js'></script>"
            ],
            "text/plain": [
              "<IPython.core.display.HTML object>"
            ]
          },
          "metadata": {
            "tags": []
          }
        }
      ]
    },
    {
      "cell_type": "markdown",
      "metadata": {
        "id": "YN__18cP78Dz"
      },
      "source": [
        "##### Graphing in D3\n",
        "\n",
        "# Scatterplot\n",
        "# Color: continent\n",
        "# X/Y: Alcohol and COVID cases\n",
        "# Slider/dropdown to filter by continent"
      ]
    },
    {
      "cell_type": "code",
      "metadata": {
        "colab": {
          "base_uri": "https://localhost:8080/",
          "height": 17
        },
        "id": "nEfctpYi72U_",
        "outputId": "f928039f-9619-4606-e37e-d5e0b941b6df"
      },
      "source": [
        "import IPython\n",
        "js_code = \\\n",
        "'''\n",
        "  let data = {}\n",
        "  d3.select(\"div#final\").selectAll(\"*\").remove()\n",
        " \n",
        "  const width = 700\n",
        "  const height = 600\n",
        "  const margin = 60 \n",
        " \n",
        "  data = data.map(d=> ({{country:d.country, continent:d.continent, total_cases:d.total_cases, alcohol:d.alcohol, population:d.population, covid_percent:d.covid_percent }}))\n",
        "  //console.log(data)\n",
        "\n",
        "  const y = d3.scaleLinear().range([height-margin, margin]).domain(d3.extent(data, (d,i) => d.covid_percent))\n",
        "  const x = d3.scaleLinear().range([margin, width-margin]).domain(d3.extent(data, (d,i)=>d.alcohol))\n",
        "  const colorscale = d3.scaleOrdinal().range([\"#3366cc\", \"#dc3912\", \"#ff9900\", \"#109618\", \"#990099\", \"#0099c6\"]).domain(d3.extent(data, (d,i) => d.continent))\n",
        " \n",
        "  const svg = d3.select(\"div#output-area\").append(\"svg\")\n",
        "    .attr(\"width\", width)\n",
        "    .attr(\"height\", height)\n",
        "            \n",
        "  const xAxis = d3.axisBottom().scale(x)\n",
        "            \n",
        "            \n",
        "  svg.append(\"g\")\n",
        "    .attr(\"class\", \"axis\")\n",
        "    .attr(\"transform\", \"translate(0,\" + (height-margin) + \")\")\n",
        "    .call(xAxis)\n",
        "            \n",
        "  const yAxis = d3.axisLeft().scale(y)\n",
        "            \n",
        "  svg.append(\"g\")\n",
        "    .attr(\"class\", \"axis\")\n",
        "    .attr(\"transform\", \"translate(\" + margin + \",0)\")\n",
        "    .call(yAxis)\n",
        "            \n",
        "  svg.selectAll(\"circle\")\n",
        "    .data(data) \n",
        "    .join(\"circle\")\n",
        "    .attr(\"cx\", (d,i)=> x(d.alcohol))\n",
        "    .attr(\"cy\", (d,i)=> y(d.covid_percent))\n",
        "    .attr(\"r\", 5)\n",
        "    .transition()\n",
        "    .attr(\"r\", (d,i) => d)\n",
        "    .style(\"fill\",d=>colorscale(d.continent))\n",
        "    .append(\"title\")   \n",
        "    .text(d=>\"Country: \"+d.country+\"\\n\"+\"Population: \"+d.population)\n",
        "            \n",
        "  svg.append(\"text\")\n",
        "    .attr(\"transform\", \"rotate(-90,10,\"+(height/2)+\")\")\n",
        "    .attr(\"x\", 15)\n",
        "    .attr(\"y\", height/2)\n",
        "    .style(\"text-anchor\", \"middle\")\n",
        "    .text(\"% of Population Diagnosed With COVID-19\")\n",
        "            \n",
        "  svg.append(\"text\")\n",
        "    .attr(\"x\", (width / 2))             \n",
        "    .attr(\"y\", 40)\n",
        "    .attr(\"text-anchor\", \"middle\")  \n",
        "    .style(\"font-size\", \"20px\") \n",
        "    .style(\"font-weight\", \"bold\")\n",
        "    .text(\"COVID-19 Cases Per Country as a Function of Alcohol Consumption (kCal)\")\n",
        "            \n",
        "  svg.append(\"text\")\n",
        "    .attr(\"x\", width/2)\n",
        "    .attr(\"y\", height-5)\n",
        "    .style(\"text-anchor\", \"middle\")\n",
        "    .text(\"% of Country's kCal Intake from Alcohol\")\n",
        "             \n",
        "  svg.append(\"rect\")\n",
        "    .join(\"rect\")\n",
        "    .attr(\"x\", 675)\n",
        "    .attr(\"y\", 220)\n",
        "    .attr(\"width\", 200)\n",
        "    .attr(\"height\", 300)\n",
        "    .style(\"fill\", \"none\")\n",
        "    .style(\"stroke\", \"black\")\n",
        "    .style(\"stroke-width\", 2) \n",
        "            \n",
        "          svg.append(\"text\")\n",
        "                .attr(\"x\", 770)\n",
        "                .attr(\"y\", 250)\n",
        "                .style(\"text-anchor\", \"middle\")\n",
        "                .style(\"font-weight\", \"bold\")\n",
        "                .text(\"Continent\")\n",
        "            \n",
        "            svg.append(\"text\")\n",
        "                .attr(\"x\", 730)\n",
        "                .attr(\"y\", 300)\n",
        "                .style(\"text-anchor\", \"middle\")\n",
        "                .text(\"Africa\")\n",
        "            \n",
        "            svg.append(\"text\")\n",
        "                .attr(\"x\", 730)\n",
        "                .attr(\"y\", 340)\n",
        "                .style(\"text-anchor\", \"middle\")\n",
        "                .text(\"Asia\")\n",
        "            \n",
        "            svg.append(\"text\")\n",
        "                .attr(\"x\", 730)\n",
        "                .attr(\"y\", 380)\n",
        "                .style(\"text-anchor\", \"middle\")\n",
        "                .text(\"Europe\")\n",
        "            \n",
        "            svg.append(\"text\")\n",
        "                .attr(\"x\", 730)\n",
        "                .attr(\"y\", 420)\n",
        "                .style(\"text-anchor\", \"middle\")\n",
        "                .text(\"North America\")\n",
        "            \n",
        "             svg.append(\"text\")\n",
        "                .attr(\"x\", 730)\n",
        "                .attr(\"y\", 460)\n",
        "                .style(\"text-anchor\", \"middle\")\n",
        "                .text(\"Oceania\")\n",
        "            \n",
        "            svg.append(\"text\")\n",
        "                .attr(\"x\", 730)\n",
        "                .attr(\"y\", 500)\n",
        "                .style(\"text-anchor\", \"middle\")\n",
        "                .text(\"South America\")\n",
        "            \n",
        "            \n",
        "            svg.append(\"circle\")\n",
        "                .attr(\"cx\", 790)\n",
        "                .attr(\"cy\", 295)\n",
        "                .attr(\"r\", 8)\n",
        "                .style(\"fill\", \"#3366cc\")\n",
        "            \n",
        "            \n",
        "            svg.append(\"circle\")\n",
        "                .attr(\"cx\", 790)\n",
        "                .attr(\"cy\", 335)\n",
        "                .attr(\"r\", 8)\n",
        "                .style(\"fill\", \"#ff9900\")\n",
        "            \n",
        "            svg.append(\"circle\")\n",
        "                .attr(\"cx\", 790)\n",
        "                .attr(\"cy\", 375)\n",
        "                .attr(\"r\", 8)\n",
        "                .style(\"fill\", \"#109618\")\n",
        "            \n",
        "            svg.append(\"circle\")\n",
        "                .attr(\"cx\", 790)\n",
        "                .attr(\"cy\", 415)\n",
        "                .attr(\"r\", 8)\n",
        "                .style(\"fill\", \"#990099\")\n",
        "            \n",
        "            svg.append(\"circle\")\n",
        "                .attr(\"cx\", 790)\n",
        "                .attr(\"cy\", 455)\n",
        "                .attr(\"r\", 8)\n",
        "                .style(\"fill\", \"#0099c6\")\n",
        "             \n",
        "            svg.append(\"circle\")\n",
        "                .attr(\"cx\", 790)\n",
        "                .attr(\"cy\", 495)\n",
        "                .attr(\"r\", 8)\n",
        "                .style(\"fill\", \"#dc3912\")\n",
        "\n",
        "       })\n",
        "        .catch(function(error){\n",
        "        \n",
        "        })\n",
        "    \n",
        "})\n",
        "</script>\n",
        "           \n",
        "\n",
        "'''.format(dataForD3)\n",
        "\n",
        "display(IPython.display.Javascript(js_code))\n"
      ],
      "execution_count": null,
      "outputs": [
        {
          "output_type": "display_data",
          "data": {
            "text/html": [
              "<script src='https://d3js.org/d3.v6.min.js'></script>"
            ],
            "text/plain": [
              "<IPython.core.display.HTML object>"
            ]
          },
          "metadata": {
            "tags": []
          }
        },
        {
          "output_type": "display_data",
          "data": {
            "text/html": [
              "<script src='https://d3js.org/d3.v6.min.js'></script>"
            ],
            "text/plain": [
              "<IPython.core.display.HTML object>"
            ]
          },
          "metadata": {
            "tags": []
          }
        },
        {
          "output_type": "display_data",
          "data": {
            "text/html": [
              "<script src='https://d3js.org/d3.v6.min.js'></script>"
            ],
            "text/plain": [
              "<IPython.core.display.HTML object>"
            ]
          },
          "metadata": {
            "tags": []
          }
        },
        {
          "output_type": "display_data",
          "data": {
            "text/html": [
              "<script src='https://d3js.org/d3.v6.min.js'></script>"
            ],
            "text/plain": [
              "<IPython.core.display.HTML object>"
            ]
          },
          "metadata": {
            "tags": []
          }
        },
        {
          "output_type": "display_data",
          "data": {
            "application/javascript": [
              "\n",
              "  let data = [{'country': 'Afghanistan', 'continent': 'Asia', 'total_cases': 56069.0, 'alcohol': 0.0, 'population': 38928341.0, 'covid_percent': 0.14403131127524801}, {'country': 'Albania', 'continent': 'Europe', 'total_cases': 120022.0, 'alcohol': 0.912, 'population': 2877800.0, 'covid_percent': 4.170616443116269}, {'country': 'Algeria', 'continent': 'Africa', 'total_cases': 115970.0, 'alcohol': 0.0896, 'population': 43851043.0, 'covid_percent': 0.2644634929207955}, {'country': 'Angola', 'continent': 'Africa', 'total_cases': 21642.0, 'alcohol': 1.9388, 'population': 32866268.0, 'covid_percent': 0.06584866891488866}, {'country': 'Antigua and Barbuda', 'continent': 'North America', 'total_cases': 1011.0, 'alcohol': 2.3041, 'population': 97928.0, 'covid_percent': 1.032391144514337}, {'country': 'Argentina', 'continent': 'South America', 'total_cases': 2234913.0, 'alcohol': 1.4354, 'population': 45195777.0, 'covid_percent': 4.944959791265454}, {'country': 'Armenia', 'continent': 'Asia', 'total_cases': 182056.0, 'alcohol': 0.2274, 'population': 2963234.0, 'covid_percent': 6.14382799333431}, {'country': 'Australia', 'continent': 'Oceania', 'total_cases': 29192.0, 'alcohol': 1.9783, 'population': 25499881.0, 'covid_percent': 0.11447896560772186}, {'country': 'Austria', 'continent': 'Europe', 'total_cases': 508096.0, 'alcohol': 2.8161, 'population': 9006400.0, 'covid_percent': 5.641499378219932}, {'country': 'Azerbaijan', 'continent': 'Asia', 'total_cases': 244303.0, 'alcohol': 2.2555, 'population': 10139175.0, 'covid_percent': 2.4094958416241954}, {'country': 'Bahamas', 'continent': 'North America', 'total_cases': 8800.0, 'alcohol': 2.9145, 'population': 393248.0, 'covid_percent': 2.2377736186833754}, {'country': 'Bangladesh', 'continent': 'Asia', 'total_cases': 566838.0, 'alcohol': 0.0, 'population': 164689383.0, 'covid_percent': 0.3441861215789484}, {'country': 'Barbados', 'continent': 'North America', 'total_cases': 3512.0, 'alcohol': 1.1224, 'population': 287371.0, 'covid_percent': 1.2221135744386178}, {'country': 'Belarus', 'continent': 'Europe', 'total_cases': 307938.0, 'alcohol': 3.2979, 'population': 9449321.0, 'covid_percent': 3.2588373281000824}, {'country': 'Belgium', 'continent': 'Europe', 'total_cases': 827941.0, 'alcohol': 2.3089, 'population': 11589616.0, 'covid_percent': 7.143817362024764}, {'country': 'Belize', 'continent': 'North America', 'total_cases': 12400.0, 'alcohol': 1.5199, 'population': 397621.0, 'covid_percent': 3.1185475616227514}, {'country': 'Benin', 'continent': 'Africa', 'total_cases': 6818.0, 'alcohol': 1.7604, 'population': 12123198.0, 'covid_percent': 0.0562392860365722}, {'country': 'Bolivia', 'continent': 'South America', 'total_cases': 263808.0, 'alcohol': 0.7859, 'population': 11673029.0, 'covid_percent': 2.2599789651854714}, {'country': 'Bosnia and Herzegovina', 'continent': 'Europe', 'total_cases': 151337.0, 'alcohol': 3.8856, 'population': 3280815.0, 'covid_percent': 4.612786761825949}, {'country': 'Botswana', 'continent': 'Africa', 'total_cases': 35493.0, 'alcohol': 1.5598, 'population': 2351625.0, 'covid_percent': 1.5092967628767342}, {'country': 'Brazil', 'continent': 'South America', 'total_cases': 11871390.0, 'alcohol': 1.4314, 'population': 212559409.0, 'covid_percent': 5.584975069252287}, {'country': 'Bulgaria', 'continent': 'Europe', 'total_cases': 299939.0, 'alcohol': 3.6782, 'population': 6948445.0, 'covid_percent': 4.316634872982372}, {'country': 'Burkina Faso', 'continent': 'Africa', 'total_cases': 12450.0, 'alcohol': 2.5188, 'population': 20903278.0, 'covid_percent': 0.059560036468921294}, {'country': 'Cambodia', 'continent': 'Asia', 'total_cases': 1578.0, 'alcohol': 1.4153, 'population': 16718971.0, 'covid_percent': 0.00943837990986407}, {'country': 'Cameroon', 'continent': 'Africa', 'total_cases': 40622.0, 'alcohol': 1.5263, 'population': 26545864.0, 'covid_percent': 0.15302572182242777}, {'country': 'Canada', 'continent': 'North America', 'total_cases': 932515.0, 'alcohol': 1.5748, 'population': 37742157.0, 'covid_percent': 2.470751737904116}, {'country': 'Central African Republic', 'continent': 'Africa', 'total_cases': 5075.0, 'alcohol': 0.5402, 'population': 4829764.0, 'covid_percent': 0.10507759799443617}, {'country': 'Chad', 'continent': 'Africa', 'total_cases': 4395.0, 'alcohol': 0.1436, 'population': 16425859.0, 'covid_percent': 0.02675659154264018}, {'country': 'Chile', 'continent': 'South America', 'total_cases': 918053.0, 'alcohol': 1.5942, 'population': 19116209.0, 'covid_percent': 4.80248463489806}, {'country': 'China', 'continent': 'Asia', 'total_cases': 101498.0, 'alcohol': 1.2768, 'population': 1439323774.0, 'covid_percent': 0.00705178374966521}, {'country': 'Colombia', 'continent': 'South America', 'total_cases': 2324426.0, 'alcohol': 0.9856, 'population': 50882884.0, 'covid_percent': 4.568188391208328}, {'country': 'Congo', 'continent': 'Africa', 'total_cases': 9564.0, 'alcohol': 1.6241, 'population': 5518092.0, 'covid_percent': 0.17332077826901038}, {'country': 'Costa Rica', 'continent': 'North America', 'total_cases': 211903.0, 'alcohol': 1.2109999999999999, 'population': 5094114.0, 'covid_percent': 4.159761638628425}, {'country': \"Cote d'Ivoire\", 'continent': 'Africa', 'total_cases': 39434.0, 'alcohol': 0.4579, 'population': 26378275.0, 'covid_percent': 0.1494942334174619}, {'country': 'Croatia', 'continent': 'Europe', 'total_cases': 255619.0, 'alcohol': 2.7404, 'population': 4105268.0, 'covid_percent': 6.226609322460799}, {'country': 'Cuba', 'continent': 'North America', 'total_cases': 65149.0, 'alcohol': 0.9825, 'population': 11326616.0, 'covid_percent': 0.5751850331996776}, {'country': 'Cyprus', 'continent': 'Europe', 'total_cases': 41475.0, 'alcohol': 1.6826, 'population': 875899.0, 'covid_percent': 4.73513498702476}, {'country': 'Czechia', 'continent': 'Europe', 'total_cases': 1449696.0, 'alcohol': 4.8993, 'population': 10708982.0, 'covid_percent': 13.537197093057024}, {'country': 'Denmark', 'continent': 'Europe', 'total_cases': 224950.0, 'alcohol': 2.4239, 'population': 5792203.0, 'covid_percent': 3.8836691324527126}, {'country': 'Djibouti', 'continent': 'Africa', 'total_cases': 6501.0, 'alcohol': 0.1306, 'population': 988002.0, 'covid_percent': 0.6579946194440902}, {'country': 'Dominica', 'continent': 'North America', 'total_cases': 156.0, 'alcohol': 1.4266, 'population': 71991.0, 'covid_percent': 0.21669375338583988}, {'country': 'Dominican Republic', 'continent': 'North America', 'total_cases': 248502.0, 'alcohol': 1.589, 'population': 10847904.0, 'covid_percent': 2.290783546757051}, {'country': 'Ecuador', 'continent': 'South America', 'total_cases': 309643.0, 'alcohol': 0.9275, 'population': 17643060.0, 'covid_percent': 1.7550413590386247}, {'country': 'Egypt', 'continent': 'Africa', 'total_cases': 194127.0, 'alcohol': 0.0301, 'population': 102334403.0, 'covid_percent': 0.18969866858948695}, {'country': 'El Salvador', 'continent': 'North America', 'total_cases': 62531.0, 'alcohol': 0.9019, 'population': 6486201.0, 'covid_percent': 0.9640620141127295}, {'country': 'Estonia', 'continent': 'Europe', 'total_cases': 92780.0, 'alcohol': 4.8389999999999995, 'population': 1326539.0, 'covid_percent': 6.994140390896914}, {'country': 'Eswatini', 'continent': 'Africa', 'total_cases': 17274.0, 'alcohol': 1.5593, 'population': 1160164.0, 'covid_percent': 1.488927427501629}, {'country': 'Ethiopia', 'continent': 'Africa', 'total_cases': 183863.0, 'alcohol': 0.4774, 'population': 114963583.0, 'covid_percent': 0.1599315150085397}, {'country': 'Fiji', 'continent': 'Oceania', 'total_cases': 67.0, 'alcohol': 0.7322, 'population': 896444.0, 'covid_percent': 0.007473974949913213}, {'country': 'Finland', 'continent': 'Europe', 'total_cases': 70267.0, 'alcohol': 2.4873, 'population': 5540718.0, 'covid_percent': 1.2681930392414846}, {'country': 'France', 'continent': 'Europe', 'total_cases': 4242145.0, 'alcohol': 1.9955, 'population': 68147687.0, 'covid_percent': 6.22492880792858}, {'country': 'Gabon', 'continent': 'Africa', 'total_cases': 17711.0, 'alcohol': 2.0617, 'population': 2225728.0, 'covid_percent': 0.7957396411421341}, {'country': 'Gambia', 'continent': 'Africa', 'total_cases': 5153.0, 'alcohol': 0.3543, 'population': 2416664.0, 'covid_percent': 0.21322782149276856}, {'country': 'Georgia', 'continent': 'Asia', 'total_cases': 276796.0, 'alcohol': 1.2367, 'population': 3989175.0, 'covid_percent': 6.938677796787557}, {'country': 'Germany', 'continent': 'Europe', 'total_cases': 2654734.0, 'alcohol': 3.2902, 'population': 83783945.0, 'covid_percent': 3.1685473869725276}, {'country': 'Ghana', 'continent': 'Africa', 'total_cases': 89008.0, 'alcohol': 0.3956, 'population': 31072945.0, 'covid_percent': 0.28644854872944936}, {'country': 'Greece', 'continent': 'Europe', 'total_cases': 233079.0, 'alcohol': 1.0285, 'population': 10423056.0, 'covid_percent': 2.236186776699655}, {'country': 'Grenada', 'continent': 'North America', 'total_cases': 154.0, 'alcohol': 1.9979, 'population': 112519.0, 'covid_percent': 0.1368657737804282}, {'country': 'Guatemala', 'continent': 'North America', 'total_cases': 186740.0, 'alcohol': 0.5887, 'population': 17915567.0, 'covid_percent': 1.0423337424933299}, {'country': 'Guinea', 'continent': 'Africa', 'total_cases': 18562.0, 'alcohol': 0.0894, 'population': 13132792.0, 'covid_percent': 0.14134085120665887}, {'country': 'Guinea-Bissau', 'continent': 'Africa', 'total_cases': 3536.0, 'alcohol': 0.6881, 'population': 1967998.0, 'covid_percent': 0.1796749793444912}, {'country': 'Guyana', 'continent': 'South America', 'total_cases': 9486.0, 'alcohol': 0.5719, 'population': 786559.0, 'covid_percent': 1.2060125178149381}, {'country': 'Haiti', 'continent': 'North America', 'total_cases': 12688.0, 'alcohol': 2.0559, 'population': 11402533.0, 'covid_percent': 0.11127352141844273}, {'country': 'Honduras', 'continent': 'North America', 'total_cases': 181357.0, 'alcohol': 0.7052, 'population': 9904608.0, 'covid_percent': 1.8310366245690897}, {'country': 'Hungary', 'continent': 'Europe', 'total_cases': 549839.0, 'alcohol': 3.0432, 'population': 9660350.0, 'covid_percent': 5.691708892534949}, {'country': 'Iceland', 'continent': 'Europe', 'total_cases': 6097.0, 'alcohol': 2.0403, 'population': 341250.0, 'covid_percent': 1.7866666666666666}, {'country': 'India', 'continent': 'Asia', 'total_cases': 11555284.0, 'alcohol': 0.2582, 'population': 1380004385.0, 'covid_percent': 0.8373367596219631}, {'country': 'Indonesia', 'continent': 'Asia', 'total_cases': 1450132.0, 'alcohol': 0.0346, 'population': 273523621.0, 'covid_percent': 0.5301670088668503}, {'country': 'Iraq', 'continent': 'Asia', 'total_cases': 784716.0, 'alcohol': 0.0997, 'population': 40222503.0, 'covid_percent': 1.950937762376449}, {'country': 'Ireland', 'continent': 'Europe', 'total_cases': 229306.0, 'alcohol': 3.2284, 'population': 4937796.0, 'covid_percent': 4.643893753407391}, {'country': 'Israel', 'continent': 'Asia', 'total_cases': 826609.0, 'alcohol': 0.6267, 'population': 8655541.0, 'covid_percent': 9.550055854394312}, {'country': 'Italy', 'continent': 'Europe', 'total_cases': 3332418.0, 'alcohol': 1.4624, 'population': 60461828.0, 'covid_percent': 5.511606430424168}, {'country': 'Jamaica', 'continent': 'North America', 'total_cases': 33970.0, 'alcohol': 1.3423, 'population': 2961161.0, 'covid_percent': 1.1471851750039932}, {'country': 'Japan', 'continent': 'Asia', 'total_cases': 453616.0, 'alcohol': 2.4472, 'population': 126476458.0, 'covid_percent': 0.35865647028160763}, {'country': 'Jordan', 'continent': 'Asia', 'total_cases': 521461.0, 'alcohol': 0.0553, 'population': 10203140.0, 'covid_percent': 5.110789423648014}, {'country': 'Kazakhstan', 'continent': 'Asia', 'total_cases': 280576.0, 'alcohol': 1.5175, 'population': 18776707.0, 'covid_percent': 1.4942769251285648}, {'country': 'Kenya', 'continent': 'Africa', 'total_cases': 118889.0, 'alcohol': 0.6828, 'population': 53771300.0, 'covid_percent': 0.22110121942374464}, {'country': 'Kuwait', 'continent': 'Asia', 'total_cases': 216586.0, 'alcohol': 0.0, 'population': 4270563.0, 'covid_percent': 5.071602971317833}, {'country': 'Kyrgyzstan', 'continent': 'Asia', 'total_cases': 87239.0, 'alcohol': 0.7328, 'population': 6524191.0, 'covid_percent': 1.3371619561720374}, {'country': 'Latvia', 'continent': 'Europe', 'total_cases': 96524.0, 'alcohol': 3.0614, 'population': 1886202.0, 'covid_percent': 5.117373430841448}, {'country': 'Lebanon', 'continent': 'Asia', 'total_cases': 434322.0, 'alcohol': 0.3473, 'population': 6825442.0, 'covid_percent': 6.363280209545404}, {'country': 'Lesotho', 'continent': 'Africa', 'total_cases': 10535.0, 'alcohol': 0.767, 'population': 2142252.0, 'covid_percent': 0.4917722098053824}, {'country': 'Liberia', 'continent': 'Africa', 'total_cases': 2042.0, 'alcohol': 0.7505, 'population': 5057677.0, 'covid_percent': 0.04037426668409232}, {'country': 'Lithuania', 'continent': 'Europe', 'total_cases': 208048.0, 'alcohol': 3.3192, 'population': 2722291.0, 'covid_percent': 7.64238650460219}, {'country': 'Luxembourg', 'continent': 'Europe', 'total_cases': 58955.0, 'alcohol': 5.1574, 'population': 625976.0, 'covid_percent': 9.41809270642964}, {'country': 'Madagascar', 'continent': 'Africa', 'total_cases': 22113.0, 'alcohol': 0.289, 'population': 27691019.0, 'covid_percent': 0.0798562161977499}, {'country': 'Malawi', 'continent': 'Africa', 'total_cases': 33174.0, 'alcohol': 0.3588, 'population': 19129955.0, 'covid_percent': 0.1734138945961974}, {'country': 'Malaysia', 'continent': 'Asia', 'total_cases': 330042.0, 'alcohol': 0.2063, 'population': 32365998.0, 'covid_percent': 1.0197182858381193}, {'country': 'Maldives', 'continent': 'Asia', 'total_cases': 22292.0, 'alcohol': 0.3552, 'population': 540542.0, 'covid_percent': 4.124008865176064}, {'country': 'Mali', 'continent': 'Africa', 'total_cases': 9191.0, 'alcohol': 0.6497, 'population': 20250834.0, 'covid_percent': 0.04538578509902357}, {'country': 'Malta', 'continent': 'Europe', 'total_cases': 27694.0, 'alcohol': 1.9506, 'population': 441539.0, 'covid_percent': 6.272152629779022}, {'country': 'Mauritania', 'continent': 'Africa', 'total_cases': 17570.0, 'alcohol': 0.0, 'population': 4649660.0, 'covid_percent': 0.37787709208845377}, {'country': 'Mauritius', 'continent': 'Africa', 'total_cases': 793.0, 'alcohol': 0.8473, 'population': 1271767.0, 'covid_percent': 0.06235418909281338}, {'country': 'Mexico', 'continent': 'North America', 'total_cases': 2187910.0, 'alcohol': 1.196, 'population': 128932753.0, 'covid_percent': 1.6969388685898918}, {'country': 'Mongolia', 'continent': 'Asia', 'total_cases': 4806.0, 'alcohol': 1.5398, 'population': 3278292.0, 'covid_percent': 0.14660072989227316}, {'country': 'Montenegro', 'continent': 'Europe', 'total_cases': 86282.0, 'alcohol': 1.4078, 'population': 628062.0, 'covid_percent': 13.737815693355115}, {'country': 'Morocco', 'continent': 'Africa', 'total_cases': 491019.0, 'alcohol': 0.0888, 'population': 36910558.0, 'covid_percent': 1.3302941667801391}, {'country': 'Mozambique', 'continent': 'Africa', 'total_cases': 65799.0, 'alcohol': 0.3688, 'population': 31255435.0, 'covid_percent': 0.21052018632919364}, {'country': 'Myanmar', 'continent': 'Asia', 'total_cases': 142212.0, 'alcohol': 0.1296, 'population': 54409794.0, 'covid_percent': 0.26137206106679983}, {'country': 'Namibia', 'continent': 'Africa', 'total_cases': 41965.0, 'alcohol': 2.4054, 'population': 2540916.0, 'covid_percent': 1.6515697488622214}, {'country': 'Nepal', 'continent': 'Asia', 'total_cases': 275750.0, 'alcohol': 0.1395, 'population': 29136808.0, 'covid_percent': 0.946397422806232}, {'country': 'Netherlands', 'continent': 'Europe', 'total_cases': 1203622.0, 'alcohol': 2.2164, 'population': 17134873.0, 'covid_percent': 7.0243998890449895}, {'country': 'New Zealand', 'continent': 'Oceania', 'total_cases': 2444.0, 'alcohol': 1.6474, 'population': 4822233.0, 'covid_percent': 0.05068191437452317}, {'country': 'Nicaragua', 'continent': 'North America', 'total_cases': 6582.0, 'alcohol': 0.6658, 'population': 6624554.0, 'covid_percent': 0.09935763222701482}, {'country': 'Niger', 'continent': 'Africa', 'total_cases': 4911.0, 'alcohol': 0.0194, 'population': 24206636.0, 'covid_percent': 0.020287825206278146}, {'country': 'Nigeria', 'continent': 'Africa', 'total_cases': 161539.0, 'alcohol': 1.2178, 'population': 206139587.0, 'covid_percent': 0.07836389038656608}, {'country': 'North Macedonia', 'continent': 'Europe', 'total_cases': 117437.0, 'alcohol': 0.9837, 'population': 2083380.0, 'covid_percent': 5.636849734565946}, {'country': 'Norway', 'continent': 'Europe', 'total_cases': 85542.0, 'alcohol': 1.7142, 'population': 5421242.0, 'covid_percent': 1.577904103893536}, {'country': 'Oman', 'continent': 'Asia', 'total_cases': 149135.0, 'alcohol': 0.0853, 'population': 5106622.0, 'covid_percent': 2.9204237164998705}, {'country': 'Pakistan', 'continent': 'Asia', 'total_cases': 623135.0, 'alcohol': 0.0, 'population': 220892331.0, 'covid_percent': 0.28209897427357944}, {'country': 'Panama', 'continent': 'North America', 'total_cases': 350220.0, 'alcohol': 1.8134, 'population': 4314768.0, 'covid_percent': 8.116774760543324}, {'country': 'Paraguay', 'continent': 'South America', 'total_cases': 190499.0, 'alcohol': 1.8252, 'population': 7132530.0, 'covid_percent': 2.6708475113318837}, {'country': 'Peru', 'continent': 'South America', 'total_cases': 1451645.0, 'alcohol': 1.5529, 'population': 32971846.0, 'covid_percent': 4.402680395874711}, {'country': 'Philippines', 'continent': 'Asia', 'total_cases': 648066.0, 'alcohol': 1.0845, 'population': 109581085.0, 'covid_percent': 0.5914031604998253}, {'country': 'Poland', 'continent': 'Europe', 'total_cases': 2010244.0, 'alcohol': 2.8507, 'population': 37846605.0, 'covid_percent': 5.311557007557217}, {'country': 'Portugal', 'continent': 'Europe', 'total_cases': 816623.0, 'alcohol': 3.065, 'population': 10196707.0, 'covid_percent': 8.008693394838156}, {'country': 'Romania', 'continent': 'Europe', 'total_cases': 886752.0, 'alcohol': 2.1141, 'population': 19237682.0, 'covid_percent': 4.6094534674187875}, {'country': 'Rwanda', 'continent': 'Africa', 'total_cases': 20681.0, 'alcohol': 0.858, 'population': 12952209.0, 'covid_percent': 0.1596716050520803}, {'country': 'Saint Kitts and Nevis', 'continent': 'North America', 'total_cases': 44.0, 'alcohol': 1.6696, 'population': 53192.0, 'covid_percent': 0.0827192058956234}, {'country': 'Saint Lucia', 'continent': 'North America', 'total_cases': 4113.0, 'alcohol': 2.5564, 'population': 183629.0, 'covid_percent': 2.2398422907057163}, {'country': 'Saint Vincent and the Grenadines', 'continent': 'North America', 'total_cases': 1692.0, 'alcohol': 1.8243, 'population': 110947.0, 'covid_percent': 1.525052502546261}, {'country': 'Samoa', 'continent': 'Oceania', 'total_cases': 3.0, 'alcohol': 0.521, 'population': 198410.0, 'covid_percent': 0.0015120205634796633}, {'country': 'Sao Tome and Principe', 'continent': 'Africa', 'total_cases': 2123.0, 'alcohol': 0.7034, 'population': 219161.0, 'covid_percent': 0.9686942476079229}, {'country': 'Saudi Arabia', 'continent': 'Asia', 'total_cases': 384271.0, 'alcohol': 0.0, 'population': 34813867.0, 'covid_percent': 1.1037871776783659}, {'country': 'Senegal', 'continent': 'Africa', 'total_cases': 37541.0, 'alcohol': 0.0766, 'population': 16743930.0, 'covid_percent': 0.22420662293738686}, {'country': 'Serbia', 'continent': 'Europe', 'total_cases': 542209.0, 'alcohol': 2.5678, 'population': 6804596.0, 'covid_percent': 7.968276147474443}, {'country': 'Sierra Leone', 'continent': 'Africa', 'total_cases': 3947.0, 'alcohol': 0.1021, 'population': 7976985.0, 'covid_percent': 0.0494798473358042}, {'country': 'Slovakia', 'continent': 'Europe', 'total_cases': 346149.0, 'alcohol': 2.835, 'population': 5459643.0, 'covid_percent': 6.340139822329043}, {'country': 'Slovenia', 'continent': 'Europe', 'total_cases': 204482.0, 'alcohol': 2.2372, 'population': 2078932.0, 'covid_percent': 9.835915749048068}, {'country': 'Solomon Islands', 'continent': 'Oceania', 'total_cases': 18.0, 'alcohol': 0.2697, 'population': 686878.0, 'covid_percent': 0.002620552703682459}, {'country': 'South Africa', 'continent': 'Africa', 'total_cases': 1535423.0, 'alcohol': 2.2875, 'population': 59308690.0, 'covid_percent': 2.588866825417995}, {'country': 'Spain', 'continent': 'Europe', 'total_cases': 3212332.0, 'alcohol': 2.4163, 'population': 46754783.0, 'covid_percent': 6.87059546399777}, {'country': 'Sri Lanka', 'continent': 'Asia', 'total_cases': 89497.0, 'alcohol': 0.2105, 'population': 21413250.0, 'covid_percent': 0.41795150199059}, {'country': 'Sudan', 'continent': 'Africa', 'total_cases': 30989.0, 'alcohol': 0.0, 'population': 43849269.0, 'covid_percent': 0.07067164563222252}, {'country': 'Suriname', 'continent': 'South America', 'total_cases': 9055.0, 'alcohol': 1.4479, 'population': 586634.0, 'covid_percent': 1.5435518568647573}, {'country': 'Sweden', 'continent': 'Europe', 'total_cases': 744272.0, 'alcohol': 2.2981, 'population': 10099270.0, 'covid_percent': 7.369562354506811}, {'country': 'Switzerland', 'continent': 'Europe', 'total_cases': 580609.0, 'alcohol': 2.3293, 'population': 8654618.0, 'covid_percent': 6.708661202608828}, {'country': 'Tajikistan', 'continent': 'Asia', 'total_cases': 13308.0, 'alcohol': 0.1427, 'population': 9537642.0, 'covid_percent': 0.13953134328170422}, {'country': 'Thailand', 'continent': 'Asia', 'total_cases': 27594.0, 'alcohol': 2.1401, 'population': 69799978.0, 'covid_percent': 0.03953296374964473}, {'country': 'Togo', 'continent': 'Africa', 'total_cases': 8695.0, 'alcohol': 0.2882, 'population': 8278737.0, 'covid_percent': 0.10502809788497931}, {'country': 'Trinidad and Tobago', 'continent': 'North America', 'total_cases': 7821.0, 'alcohol': 0.8874, 'population': 1399491.0, 'covid_percent': 0.5588460375950971}, {'country': 'Tunisia', 'continent': 'Africa', 'total_cases': 244776.0, 'alcohol': 0.2452, 'population': 11818618.0, 'covid_percent': 2.071105098751817}, {'country': 'Turkey', 'continent': 'Asia', 'total_cases': 2971633.0, 'alcohol': 0.3107, 'population': 84339067.0, 'covid_percent': 3.523435942206949}, {'country': 'Uganda', 'continent': 'Africa', 'total_cases': 40651.0, 'alcohol': 1.7949, 'population': 45741000.0, 'covid_percent': 0.08887212785028749}, {'country': 'Ukraine', 'continent': 'Europe', 'total_cases': 1569596.0, 'alcohol': 1.5319, 'population': 43733759.0, 'covid_percent': 3.588980311525474}, {'country': 'United Arab Emirates', 'continent': 'Asia', 'total_cases': 436625.0, 'alcohol': 0.0, 'population': 9890400.0, 'covid_percent': 4.414634392946696}, {'country': 'United Kingdom', 'continent': 'Europe', 'total_cases': 4299200.0, 'alcohol': 2.217, 'population': 67886004.0, 'covid_percent': 6.332969605929375}, {'country': 'Uruguay', 'continent': 'South America', 'total_cases': 78401.0, 'alcohol': 1.3481, 'population': 3473727.0, 'covid_percent': 2.256970683073252}, {'country': 'Uzbekistan', 'continent': 'Asia', 'total_cases': 81095.0, 'alcohol': 0.6785, 'population': 33469199.0, 'covid_percent': 0.2422974030540737}, {'country': 'Vanuatu', 'continent': 'Oceania', 'total_cases': 3.0, 'alcohol': 0.2668, 'population': 307150.0, 'covid_percent': 0.0009767214715936839}, {'country': 'Vietnam', 'continent': 'Asia', 'total_cases': 2571.0, 'alcohol': 0.715, 'population': 97338583.0, 'covid_percent': 0.002641295898051033}, {'country': 'Yemen', 'continent': 'Asia', 'total_cases': 3217.0, 'alcohol': 0.0, 'population': 29825968.0, 'covid_percent': 0.010785903076138215}, {'country': 'Zambia', 'continent': 'Africa', 'total_cases': 86059.0, 'alcohol': 1.1925, 'population': 18383956.0, 'covid_percent': 0.468120136928091}, {'country': 'Zimbabwe', 'continent': 'Africa', 'total_cases': 36652.0, 'alcohol': 1.4269, 'population': 14862927.0, 'covid_percent': 0.24660014814040332}]\n",
              "  d3.select(\"div#final\").selectAll(\"*\").remove()\n",
              " \n",
              "  const width = 700\n",
              "  const height = 600\n",
              "  const margin = 60 \n",
              " \n",
              "  data = data.map(d=> ({country:d.country, continent:d.continent, total_cases:d.total_cases, alcohol:d.alcohol, population:d.population, covid_percent:d.covid_percent }))\n",
              "  //console.log(data)\n",
              "\n",
              "  const y = d3.scaleLinear().range([height-margin, margin]).domain(d3.extent(data, (d,i) => d.covid_percent))\n",
              "  const x = d3.scaleLinear().range([margin, width-margin]).domain(d3.extent(data, (d,i)=>d.alcohol))\n",
              "  const colorscale = d3.scaleOrdinal().range([\"#3366cc\", \"#dc3912\", \"#ff9900\", \"#109618\", \"#990099\", \"#0099c6\"]).domain(d3.extent(data, (d,i) => d.continent))\n",
              " \n",
              "  const svg = d3.select(\"div#output-area\").append(\"svg\")\n",
              "    .attr(\"width\", width)\n",
              "    .attr(\"height\", height)\n",
              "            \n",
              "  const xAxis = d3.axisBottom().scale(x)\n",
              "            \n",
              "            \n",
              "  svg.append(\"g\")\n",
              "    .attr(\"class\", \"axis\")\n",
              "    .attr(\"transform\", \"translate(0,\" + (height-margin) + \")\")\n",
              "    .call(xAxis)\n",
              "            \n",
              "  const yAxis = d3.axisLeft().scale(y)\n",
              "            \n",
              "  svg.append(\"g\")\n",
              "    .attr(\"class\", \"axis\")\n",
              "    .attr(\"transform\", \"translate(\" + margin + \",0)\")\n",
              "    .call(yAxis)\n",
              "            \n",
              "  svg.selectAll(\"circle\")\n",
              "    .data(data) \n",
              "    .join(\"circle\")\n",
              "    .attr(\"cx\", (d,i)=> x(d.alcohol))\n",
              "    .attr(\"cy\", (d,i)=> y(d.covid_percent))\n",
              "    .attr(\"r\", 5)\n",
              "    .transition()\n",
              "    .attr(\"r\", (d,i) => d)\n",
              "    .style(\"fill\",d=>colorscale(d.continent))\n",
              "    .append(\"title\")   \n",
              "    .text(d=>\"Country: \"+d.country+\"\n",
              "\"+\"Population: \"+d.population)\n",
              "            \n",
              "  svg.append(\"text\")\n",
              "    .attr(\"transform\", \"rotate(-90,10,\"+(height/2)+\")\")\n",
              "    .attr(\"x\", 15)\n",
              "    .attr(\"y\", height/2)\n",
              "    .style(\"text-anchor\", \"middle\")\n",
              "    .text(\"% of Population Diagnosed With COVID-19\")\n",
              "            \n",
              "  svg.append(\"text\")\n",
              "    .attr(\"x\", (width / 2))             \n",
              "    .attr(\"y\", 40)\n",
              "    .attr(\"text-anchor\", \"middle\")  \n",
              "    .style(\"font-size\", \"20px\") \n",
              "    .style(\"font-weight\", \"bold\")\n",
              "    .text(\"COVID-19 Cases Per Country as a Function of Alcohol Consumption (kCal)\")\n",
              "            \n",
              "  svg.append(\"text\")\n",
              "    .attr(\"x\", width/2)\n",
              "    .attr(\"y\", height-5)\n",
              "    .style(\"text-anchor\", \"middle\")\n",
              "    .text(\"% of Country's kCal Intake from Alcohol\")\n",
              "             \n",
              "  svg.append(\"rect\")\n",
              "    .join(\"rect\")\n",
              "    .attr(\"x\", 675)\n",
              "    .attr(\"y\", 220)\n",
              "    .attr(\"width\", 200)\n",
              "    .attr(\"height\", 300)\n",
              "    .style(\"fill\", \"none\")\n",
              "    .style(\"stroke\", \"black\")\n",
              "    .style(\"stroke-width\", 2) \n",
              "            \n",
              "  svg.append(\"text\")\n",
              "    .attr(\"x\", 730)\n",
              "    .attr(\"y\", 250)\n",
              "    .style(\"text-anchor\", \"middle\")\n",
              "    .text(\"Africa\")\n",
              "            \n",
              "  svg.append(\"text\")\n",
              "    .attr(\"x\", 730)\n",
              "    .attr(\"y\", 280)\n",
              "    .style(\"text-anchor\", \"middle\")\n",
              "    .text(\"Asia\")\n",
              "            \n",
              "  svg.append(\"text\")\n",
              "    .attr(\"x\", 730)\n",
              "    .attr(\"y\", 310)\n",
              "    .style(\"text-anchor\", \"middle\")\n",
              "    .text(\"Europe\")\n",
              "            \n",
              "  svg.append(\"text\")\n",
              "    .attr(\"x\", 730)\n",
              "    .attr(\"y\", 340)\n",
              "    .style(\"text-anchor\", \"middle\")\n",
              "    .text(\"North America\")\n",
              "            \n",
              "  svg.append(\"text\")\n",
              "    .attr(\"x\", 730)\n",
              "    .attr(\"y\", 370)\n",
              "    .style(\"text-anchor\", \"middle\")\n",
              "    .text(\"Oceania\")\n",
              "            \n",
              "  svg.append(\"text\")\n",
              "    .attr(\"x\", 730)\n",
              "    .attr(\"y\", 400)\n",
              "    .style(\"text-anchor\", \"middle\")\n",
              "    .text(\"South America\")\n",
              "      \n",
              "  svg.append(\"circle\")\n",
              "    .attr(\"cx\", 790)\n",
              "    .attr(\"cy\", 245)\n",
              "    .attr(\"r\", 8)\n",
              "    .style(\"fill\", \"blue\")\n",
              "\n"
            ],
            "text/plain": [
              "<IPython.core.display.Javascript object>"
            ]
          },
          "metadata": {
            "tags": []
          }
        }
      ]
    },
    {
      "cell_type": "code",
      "metadata": {
        "colab": {
          "base_uri": "https://localhost:8080/",
          "height": 621
        },
        "id": "3AB78bO7dX0a",
        "outputId": "b5b4cda0-9623-4763-e580-eb5457bc6e57"
      },
      "source": [
        "import IPython\n",
        "js_code = \\\n",
        "'''\n",
        "  let data = {}\n",
        "  d3.select(\"div#final\").selectAll(\"*\").remove()\n",
        " \n",
        "  const width = 700\n",
        "  const height = 600\n",
        "  const margin = 60 \n",
        " \n",
        "  data = data.map(d=> ({{country:d.country, continent:d.continent, total_cases:d.total_cases, alcohol:d.alcohol, population:d.population, covid_percent:d.covid_percent }}))\n",
        "\n",
        "  const y = d3.scaleLinear().range([height-margin, margin]).domain(d3.extent(data, (d,i) => d.covid_percent))\n",
        "  const x = d3.scaleLinear().range([margin, width-margin]).domain(d3.extent(data, (d,i)=>d.alcohol))\n",
        "  const colorscale = d3.scaleOrdinal().range([\"#3366cc\", \"#dc3912\", \"#ff9900\", \"#109618\", \"#990099\", \"#0099c6\"]).domain(d3.extent(data, (d,i) => d.continent))\n",
        "\n",
        "\n",
        "  const svg = d3.select('div#output-area').append('svg')\n",
        "    .attr(\"width\", width)\n",
        "    .attr(\"height\", height)\n",
        "\n",
        "  const xAxis = d3.axisBottom().scale(x)\n",
        "\n",
        "  svg.append(\"g\")\n",
        "    .attr(\"class\", \"axis\")\n",
        "    .attr(\"transform\", \"translate(0,\" + (height-margin) + \")\")\n",
        "    .call(xAxis)\n",
        "\n",
        "  const yAxis = d3.axisLeft().scale(y)\n",
        "            \n",
        "  svg.append(\"g\")\n",
        "    .attr(\"class\", \"axis\")\n",
        "    .attr(\"transform\", \"translate(\" + margin + \",0)\")\n",
        "    .call(yAxis)\n",
        "\n",
        "  svg.selectAll(\"circle\")\n",
        "    .data(data)\n",
        "    .join(\"circle\")\n",
        "    .attr(\"cx\", (d,i) => x(d.alcohol))\n",
        "    .attr(\"cy\", (d,i)=> y(d.covid_percent))\n",
        "    .attr(\"r\", 0)\n",
        "    .transition()\n",
        "    .duration(1000)\n",
        "    .attr(\"r\", (d,i) => 5)\n",
        "    .append(\"title\")\n",
        "    .text(d=>d.location)\n",
        "\n",
        "'''.format(dataForD3)\n",
        "display(IPython.display.Javascript(js_code))\n"
      ],
      "execution_count": null,
      "outputs": [
        {
          "output_type": "display_data",
          "data": {
            "text/html": [
              "<script src='https://d3js.org/d3.v6.min.js'></script>"
            ],
            "text/plain": [
              "<IPython.core.display.HTML object>"
            ]
          },
          "metadata": {
            "tags": []
          }
        },
        {
          "output_type": "display_data",
          "data": {
            "text/html": [
              "<script src='https://d3js.org/d3.v6.min.js'></script>"
            ],
            "text/plain": [
              "<IPython.core.display.HTML object>"
            ]
          },
          "metadata": {
            "tags": []
          }
        },
        {
          "output_type": "display_data",
          "data": {
            "text/html": [
              "<script src='https://d3js.org/d3.v6.min.js'></script>"
            ],
            "text/plain": [
              "<IPython.core.display.HTML object>"
            ]
          },
          "metadata": {
            "tags": []
          }
        },
        {
          "output_type": "display_data",
          "data": {
            "text/html": [
              "<script src='https://d3js.org/d3.v6.min.js'></script>"
            ],
            "text/plain": [
              "<IPython.core.display.HTML object>"
            ]
          },
          "metadata": {
            "tags": []
          }
        },
        {
          "output_type": "display_data",
          "data": {
            "application/javascript": [
              "\n",
              "  let data = [{'country': 'Afghanistan', 'continent': 'Asia', 'total_cases': 56069.0, 'alcohol': 0.0, 'population': 38928341.0, 'covid_percent': 0.14403131127524801}, {'country': 'Albania', 'continent': 'Europe', 'total_cases': 120022.0, 'alcohol': 0.912, 'population': 2877800.0, 'covid_percent': 4.170616443116269}, {'country': 'Algeria', 'continent': 'Africa', 'total_cases': 115970.0, 'alcohol': 0.0896, 'population': 43851043.0, 'covid_percent': 0.2644634929207955}, {'country': 'Angola', 'continent': 'Africa', 'total_cases': 21642.0, 'alcohol': 1.9388, 'population': 32866268.0, 'covid_percent': 0.06584866891488866}, {'country': 'Antigua and Barbuda', 'continent': 'North America', 'total_cases': 1011.0, 'alcohol': 2.3041, 'population': 97928.0, 'covid_percent': 1.032391144514337}, {'country': 'Argentina', 'continent': 'South America', 'total_cases': 2234913.0, 'alcohol': 1.4354, 'population': 45195777.0, 'covid_percent': 4.944959791265454}, {'country': 'Armenia', 'continent': 'Asia', 'total_cases': 182056.0, 'alcohol': 0.2274, 'population': 2963234.0, 'covid_percent': 6.14382799333431}, {'country': 'Australia', 'continent': 'Oceania', 'total_cases': 29192.0, 'alcohol': 1.9783, 'population': 25499881.0, 'covid_percent': 0.11447896560772186}, {'country': 'Austria', 'continent': 'Europe', 'total_cases': 508096.0, 'alcohol': 2.8161, 'population': 9006400.0, 'covid_percent': 5.641499378219932}, {'country': 'Azerbaijan', 'continent': 'Asia', 'total_cases': 244303.0, 'alcohol': 2.2555, 'population': 10139175.0, 'covid_percent': 2.4094958416241954}, {'country': 'Bahamas', 'continent': 'North America', 'total_cases': 8800.0, 'alcohol': 2.9145, 'population': 393248.0, 'covid_percent': 2.2377736186833754}, {'country': 'Bangladesh', 'continent': 'Asia', 'total_cases': 566838.0, 'alcohol': 0.0, 'population': 164689383.0, 'covid_percent': 0.3441861215789484}, {'country': 'Barbados', 'continent': 'North America', 'total_cases': 3512.0, 'alcohol': 1.1224, 'population': 287371.0, 'covid_percent': 1.2221135744386178}, {'country': 'Belarus', 'continent': 'Europe', 'total_cases': 307938.0, 'alcohol': 3.2979, 'population': 9449321.0, 'covid_percent': 3.2588373281000824}, {'country': 'Belgium', 'continent': 'Europe', 'total_cases': 827941.0, 'alcohol': 2.3089, 'population': 11589616.0, 'covid_percent': 7.143817362024764}, {'country': 'Belize', 'continent': 'North America', 'total_cases': 12400.0, 'alcohol': 1.5199, 'population': 397621.0, 'covid_percent': 3.1185475616227514}, {'country': 'Benin', 'continent': 'Africa', 'total_cases': 6818.0, 'alcohol': 1.7604, 'population': 12123198.0, 'covid_percent': 0.0562392860365722}, {'country': 'Bolivia', 'continent': 'South America', 'total_cases': 263808.0, 'alcohol': 0.7859, 'population': 11673029.0, 'covid_percent': 2.2599789651854714}, {'country': 'Bosnia and Herzegovina', 'continent': 'Europe', 'total_cases': 151337.0, 'alcohol': 3.8856, 'population': 3280815.0, 'covid_percent': 4.612786761825949}, {'country': 'Botswana', 'continent': 'Africa', 'total_cases': 35493.0, 'alcohol': 1.5598, 'population': 2351625.0, 'covid_percent': 1.5092967628767342}, {'country': 'Brazil', 'continent': 'South America', 'total_cases': 11871390.0, 'alcohol': 1.4314, 'population': 212559409.0, 'covid_percent': 5.584975069252287}, {'country': 'Bulgaria', 'continent': 'Europe', 'total_cases': 299939.0, 'alcohol': 3.6782, 'population': 6948445.0, 'covid_percent': 4.316634872982372}, {'country': 'Burkina Faso', 'continent': 'Africa', 'total_cases': 12450.0, 'alcohol': 2.5188, 'population': 20903278.0, 'covid_percent': 0.059560036468921294}, {'country': 'Cambodia', 'continent': 'Asia', 'total_cases': 1578.0, 'alcohol': 1.4153, 'population': 16718971.0, 'covid_percent': 0.00943837990986407}, {'country': 'Cameroon', 'continent': 'Africa', 'total_cases': 40622.0, 'alcohol': 1.5263, 'population': 26545864.0, 'covid_percent': 0.15302572182242777}, {'country': 'Canada', 'continent': 'North America', 'total_cases': 932515.0, 'alcohol': 1.5748, 'population': 37742157.0, 'covid_percent': 2.470751737904116}, {'country': 'Central African Republic', 'continent': 'Africa', 'total_cases': 5075.0, 'alcohol': 0.5402, 'population': 4829764.0, 'covid_percent': 0.10507759799443617}, {'country': 'Chad', 'continent': 'Africa', 'total_cases': 4395.0, 'alcohol': 0.1436, 'population': 16425859.0, 'covid_percent': 0.02675659154264018}, {'country': 'Chile', 'continent': 'South America', 'total_cases': 918053.0, 'alcohol': 1.5942, 'population': 19116209.0, 'covid_percent': 4.80248463489806}, {'country': 'China', 'continent': 'Asia', 'total_cases': 101498.0, 'alcohol': 1.2768, 'population': 1439323774.0, 'covid_percent': 0.00705178374966521}, {'country': 'Colombia', 'continent': 'South America', 'total_cases': 2324426.0, 'alcohol': 0.9856, 'population': 50882884.0, 'covid_percent': 4.568188391208328}, {'country': 'Congo', 'continent': 'Africa', 'total_cases': 9564.0, 'alcohol': 1.6241, 'population': 5518092.0, 'covid_percent': 0.17332077826901038}, {'country': 'Costa Rica', 'continent': 'North America', 'total_cases': 211903.0, 'alcohol': 1.2109999999999999, 'population': 5094114.0, 'covid_percent': 4.159761638628425}, {'country': \"Cote d'Ivoire\", 'continent': 'Africa', 'total_cases': 39434.0, 'alcohol': 0.4579, 'population': 26378275.0, 'covid_percent': 0.1494942334174619}, {'country': 'Croatia', 'continent': 'Europe', 'total_cases': 255619.0, 'alcohol': 2.7404, 'population': 4105268.0, 'covid_percent': 6.226609322460799}, {'country': 'Cuba', 'continent': 'North America', 'total_cases': 65149.0, 'alcohol': 0.9825, 'population': 11326616.0, 'covid_percent': 0.5751850331996776}, {'country': 'Cyprus', 'continent': 'Europe', 'total_cases': 41475.0, 'alcohol': 1.6826, 'population': 875899.0, 'covid_percent': 4.73513498702476}, {'country': 'Czechia', 'continent': 'Europe', 'total_cases': 1449696.0, 'alcohol': 4.8993, 'population': 10708982.0, 'covid_percent': 13.537197093057024}, {'country': 'Denmark', 'continent': 'Europe', 'total_cases': 224950.0, 'alcohol': 2.4239, 'population': 5792203.0, 'covid_percent': 3.8836691324527126}, {'country': 'Djibouti', 'continent': 'Africa', 'total_cases': 6501.0, 'alcohol': 0.1306, 'population': 988002.0, 'covid_percent': 0.6579946194440902}, {'country': 'Dominica', 'continent': 'North America', 'total_cases': 156.0, 'alcohol': 1.4266, 'population': 71991.0, 'covid_percent': 0.21669375338583988}, {'country': 'Dominican Republic', 'continent': 'North America', 'total_cases': 248502.0, 'alcohol': 1.589, 'population': 10847904.0, 'covid_percent': 2.290783546757051}, {'country': 'Ecuador', 'continent': 'South America', 'total_cases': 309643.0, 'alcohol': 0.9275, 'population': 17643060.0, 'covid_percent': 1.7550413590386247}, {'country': 'Egypt', 'continent': 'Africa', 'total_cases': 194127.0, 'alcohol': 0.0301, 'population': 102334403.0, 'covid_percent': 0.18969866858948695}, {'country': 'El Salvador', 'continent': 'North America', 'total_cases': 62531.0, 'alcohol': 0.9019, 'population': 6486201.0, 'covid_percent': 0.9640620141127295}, {'country': 'Estonia', 'continent': 'Europe', 'total_cases': 92780.0, 'alcohol': 4.8389999999999995, 'population': 1326539.0, 'covid_percent': 6.994140390896914}, {'country': 'Eswatini', 'continent': 'Africa', 'total_cases': 17274.0, 'alcohol': 1.5593, 'population': 1160164.0, 'covid_percent': 1.488927427501629}, {'country': 'Ethiopia', 'continent': 'Africa', 'total_cases': 183863.0, 'alcohol': 0.4774, 'population': 114963583.0, 'covid_percent': 0.1599315150085397}, {'country': 'Fiji', 'continent': 'Oceania', 'total_cases': 67.0, 'alcohol': 0.7322, 'population': 896444.0, 'covid_percent': 0.007473974949913213}, {'country': 'Finland', 'continent': 'Europe', 'total_cases': 70267.0, 'alcohol': 2.4873, 'population': 5540718.0, 'covid_percent': 1.2681930392414846}, {'country': 'France', 'continent': 'Europe', 'total_cases': 4242145.0, 'alcohol': 1.9955, 'population': 68147687.0, 'covid_percent': 6.22492880792858}, {'country': 'Gabon', 'continent': 'Africa', 'total_cases': 17711.0, 'alcohol': 2.0617, 'population': 2225728.0, 'covid_percent': 0.7957396411421341}, {'country': 'Gambia', 'continent': 'Africa', 'total_cases': 5153.0, 'alcohol': 0.3543, 'population': 2416664.0, 'covid_percent': 0.21322782149276856}, {'country': 'Georgia', 'continent': 'Asia', 'total_cases': 276796.0, 'alcohol': 1.2367, 'population': 3989175.0, 'covid_percent': 6.938677796787557}, {'country': 'Germany', 'continent': 'Europe', 'total_cases': 2654734.0, 'alcohol': 3.2902, 'population': 83783945.0, 'covid_percent': 3.1685473869725276}, {'country': 'Ghana', 'continent': 'Africa', 'total_cases': 89008.0, 'alcohol': 0.3956, 'population': 31072945.0, 'covid_percent': 0.28644854872944936}, {'country': 'Greece', 'continent': 'Europe', 'total_cases': 233079.0, 'alcohol': 1.0285, 'population': 10423056.0, 'covid_percent': 2.236186776699655}, {'country': 'Grenada', 'continent': 'North America', 'total_cases': 154.0, 'alcohol': 1.9979, 'population': 112519.0, 'covid_percent': 0.1368657737804282}, {'country': 'Guatemala', 'continent': 'North America', 'total_cases': 186740.0, 'alcohol': 0.5887, 'population': 17915567.0, 'covid_percent': 1.0423337424933299}, {'country': 'Guinea', 'continent': 'Africa', 'total_cases': 18562.0, 'alcohol': 0.0894, 'population': 13132792.0, 'covid_percent': 0.14134085120665887}, {'country': 'Guinea-Bissau', 'continent': 'Africa', 'total_cases': 3536.0, 'alcohol': 0.6881, 'population': 1967998.0, 'covid_percent': 0.1796749793444912}, {'country': 'Guyana', 'continent': 'South America', 'total_cases': 9486.0, 'alcohol': 0.5719, 'population': 786559.0, 'covid_percent': 1.2060125178149381}, {'country': 'Haiti', 'continent': 'North America', 'total_cases': 12688.0, 'alcohol': 2.0559, 'population': 11402533.0, 'covid_percent': 0.11127352141844273}, {'country': 'Honduras', 'continent': 'North America', 'total_cases': 181357.0, 'alcohol': 0.7052, 'population': 9904608.0, 'covid_percent': 1.8310366245690897}, {'country': 'Hungary', 'continent': 'Europe', 'total_cases': 549839.0, 'alcohol': 3.0432, 'population': 9660350.0, 'covid_percent': 5.691708892534949}, {'country': 'Iceland', 'continent': 'Europe', 'total_cases': 6097.0, 'alcohol': 2.0403, 'population': 341250.0, 'covid_percent': 1.7866666666666666}, {'country': 'India', 'continent': 'Asia', 'total_cases': 11555284.0, 'alcohol': 0.2582, 'population': 1380004385.0, 'covid_percent': 0.8373367596219631}, {'country': 'Indonesia', 'continent': 'Asia', 'total_cases': 1450132.0, 'alcohol': 0.0346, 'population': 273523621.0, 'covid_percent': 0.5301670088668503}, {'country': 'Iraq', 'continent': 'Asia', 'total_cases': 784716.0, 'alcohol': 0.0997, 'population': 40222503.0, 'covid_percent': 1.950937762376449}, {'country': 'Ireland', 'continent': 'Europe', 'total_cases': 229306.0, 'alcohol': 3.2284, 'population': 4937796.0, 'covid_percent': 4.643893753407391}, {'country': 'Israel', 'continent': 'Asia', 'total_cases': 826609.0, 'alcohol': 0.6267, 'population': 8655541.0, 'covid_percent': 9.550055854394312}, {'country': 'Italy', 'continent': 'Europe', 'total_cases': 3332418.0, 'alcohol': 1.4624, 'population': 60461828.0, 'covid_percent': 5.511606430424168}, {'country': 'Jamaica', 'continent': 'North America', 'total_cases': 33970.0, 'alcohol': 1.3423, 'population': 2961161.0, 'covid_percent': 1.1471851750039932}, {'country': 'Japan', 'continent': 'Asia', 'total_cases': 453616.0, 'alcohol': 2.4472, 'population': 126476458.0, 'covid_percent': 0.35865647028160763}, {'country': 'Jordan', 'continent': 'Asia', 'total_cases': 521461.0, 'alcohol': 0.0553, 'population': 10203140.0, 'covid_percent': 5.110789423648014}, {'country': 'Kazakhstan', 'continent': 'Asia', 'total_cases': 280576.0, 'alcohol': 1.5175, 'population': 18776707.0, 'covid_percent': 1.4942769251285648}, {'country': 'Kenya', 'continent': 'Africa', 'total_cases': 118889.0, 'alcohol': 0.6828, 'population': 53771300.0, 'covid_percent': 0.22110121942374464}, {'country': 'Kuwait', 'continent': 'Asia', 'total_cases': 216586.0, 'alcohol': 0.0, 'population': 4270563.0, 'covid_percent': 5.071602971317833}, {'country': 'Kyrgyzstan', 'continent': 'Asia', 'total_cases': 87239.0, 'alcohol': 0.7328, 'population': 6524191.0, 'covid_percent': 1.3371619561720374}, {'country': 'Latvia', 'continent': 'Europe', 'total_cases': 96524.0, 'alcohol': 3.0614, 'population': 1886202.0, 'covid_percent': 5.117373430841448}, {'country': 'Lebanon', 'continent': 'Asia', 'total_cases': 434322.0, 'alcohol': 0.3473, 'population': 6825442.0, 'covid_percent': 6.363280209545404}, {'country': 'Lesotho', 'continent': 'Africa', 'total_cases': 10535.0, 'alcohol': 0.767, 'population': 2142252.0, 'covid_percent': 0.4917722098053824}, {'country': 'Liberia', 'continent': 'Africa', 'total_cases': 2042.0, 'alcohol': 0.7505, 'population': 5057677.0, 'covid_percent': 0.04037426668409232}, {'country': 'Lithuania', 'continent': 'Europe', 'total_cases': 208048.0, 'alcohol': 3.3192, 'population': 2722291.0, 'covid_percent': 7.64238650460219}, {'country': 'Luxembourg', 'continent': 'Europe', 'total_cases': 58955.0, 'alcohol': 5.1574, 'population': 625976.0, 'covid_percent': 9.41809270642964}, {'country': 'Madagascar', 'continent': 'Africa', 'total_cases': 22113.0, 'alcohol': 0.289, 'population': 27691019.0, 'covid_percent': 0.0798562161977499}, {'country': 'Malawi', 'continent': 'Africa', 'total_cases': 33174.0, 'alcohol': 0.3588, 'population': 19129955.0, 'covid_percent': 0.1734138945961974}, {'country': 'Malaysia', 'continent': 'Asia', 'total_cases': 330042.0, 'alcohol': 0.2063, 'population': 32365998.0, 'covid_percent': 1.0197182858381193}, {'country': 'Maldives', 'continent': 'Asia', 'total_cases': 22292.0, 'alcohol': 0.3552, 'population': 540542.0, 'covid_percent': 4.124008865176064}, {'country': 'Mali', 'continent': 'Africa', 'total_cases': 9191.0, 'alcohol': 0.6497, 'population': 20250834.0, 'covid_percent': 0.04538578509902357}, {'country': 'Malta', 'continent': 'Europe', 'total_cases': 27694.0, 'alcohol': 1.9506, 'population': 441539.0, 'covid_percent': 6.272152629779022}, {'country': 'Mauritania', 'continent': 'Africa', 'total_cases': 17570.0, 'alcohol': 0.0, 'population': 4649660.0, 'covid_percent': 0.37787709208845377}, {'country': 'Mauritius', 'continent': 'Africa', 'total_cases': 793.0, 'alcohol': 0.8473, 'population': 1271767.0, 'covid_percent': 0.06235418909281338}, {'country': 'Mexico', 'continent': 'North America', 'total_cases': 2187910.0, 'alcohol': 1.196, 'population': 128932753.0, 'covid_percent': 1.6969388685898918}, {'country': 'Mongolia', 'continent': 'Asia', 'total_cases': 4806.0, 'alcohol': 1.5398, 'population': 3278292.0, 'covid_percent': 0.14660072989227316}, {'country': 'Montenegro', 'continent': 'Europe', 'total_cases': 86282.0, 'alcohol': 1.4078, 'population': 628062.0, 'covid_percent': 13.737815693355115}, {'country': 'Morocco', 'continent': 'Africa', 'total_cases': 491019.0, 'alcohol': 0.0888, 'population': 36910558.0, 'covid_percent': 1.3302941667801391}, {'country': 'Mozambique', 'continent': 'Africa', 'total_cases': 65799.0, 'alcohol': 0.3688, 'population': 31255435.0, 'covid_percent': 0.21052018632919364}, {'country': 'Myanmar', 'continent': 'Asia', 'total_cases': 142212.0, 'alcohol': 0.1296, 'population': 54409794.0, 'covid_percent': 0.26137206106679983}, {'country': 'Namibia', 'continent': 'Africa', 'total_cases': 41965.0, 'alcohol': 2.4054, 'population': 2540916.0, 'covid_percent': 1.6515697488622214}, {'country': 'Nepal', 'continent': 'Asia', 'total_cases': 275750.0, 'alcohol': 0.1395, 'population': 29136808.0, 'covid_percent': 0.946397422806232}, {'country': 'Netherlands', 'continent': 'Europe', 'total_cases': 1203622.0, 'alcohol': 2.2164, 'population': 17134873.0, 'covid_percent': 7.0243998890449895}, {'country': 'New Zealand', 'continent': 'Oceania', 'total_cases': 2444.0, 'alcohol': 1.6474, 'population': 4822233.0, 'covid_percent': 0.05068191437452317}, {'country': 'Nicaragua', 'continent': 'North America', 'total_cases': 6582.0, 'alcohol': 0.6658, 'population': 6624554.0, 'covid_percent': 0.09935763222701482}, {'country': 'Niger', 'continent': 'Africa', 'total_cases': 4911.0, 'alcohol': 0.0194, 'population': 24206636.0, 'covid_percent': 0.020287825206278146}, {'country': 'Nigeria', 'continent': 'Africa', 'total_cases': 161539.0, 'alcohol': 1.2178, 'population': 206139587.0, 'covid_percent': 0.07836389038656608}, {'country': 'North Macedonia', 'continent': 'Europe', 'total_cases': 117437.0, 'alcohol': 0.9837, 'population': 2083380.0, 'covid_percent': 5.636849734565946}, {'country': 'Norway', 'continent': 'Europe', 'total_cases': 85542.0, 'alcohol': 1.7142, 'population': 5421242.0, 'covid_percent': 1.577904103893536}, {'country': 'Oman', 'continent': 'Asia', 'total_cases': 149135.0, 'alcohol': 0.0853, 'population': 5106622.0, 'covid_percent': 2.9204237164998705}, {'country': 'Pakistan', 'continent': 'Asia', 'total_cases': 623135.0, 'alcohol': 0.0, 'population': 220892331.0, 'covid_percent': 0.28209897427357944}, {'country': 'Panama', 'continent': 'North America', 'total_cases': 350220.0, 'alcohol': 1.8134, 'population': 4314768.0, 'covid_percent': 8.116774760543324}, {'country': 'Paraguay', 'continent': 'South America', 'total_cases': 190499.0, 'alcohol': 1.8252, 'population': 7132530.0, 'covid_percent': 2.6708475113318837}, {'country': 'Peru', 'continent': 'South America', 'total_cases': 1451645.0, 'alcohol': 1.5529, 'population': 32971846.0, 'covid_percent': 4.402680395874711}, {'country': 'Philippines', 'continent': 'Asia', 'total_cases': 648066.0, 'alcohol': 1.0845, 'population': 109581085.0, 'covid_percent': 0.5914031604998253}, {'country': 'Poland', 'continent': 'Europe', 'total_cases': 2010244.0, 'alcohol': 2.8507, 'population': 37846605.0, 'covid_percent': 5.311557007557217}, {'country': 'Portugal', 'continent': 'Europe', 'total_cases': 816623.0, 'alcohol': 3.065, 'population': 10196707.0, 'covid_percent': 8.008693394838156}, {'country': 'Romania', 'continent': 'Europe', 'total_cases': 886752.0, 'alcohol': 2.1141, 'population': 19237682.0, 'covid_percent': 4.6094534674187875}, {'country': 'Rwanda', 'continent': 'Africa', 'total_cases': 20681.0, 'alcohol': 0.858, 'population': 12952209.0, 'covid_percent': 0.1596716050520803}, {'country': 'Saint Kitts and Nevis', 'continent': 'North America', 'total_cases': 44.0, 'alcohol': 1.6696, 'population': 53192.0, 'covid_percent': 0.0827192058956234}, {'country': 'Saint Lucia', 'continent': 'North America', 'total_cases': 4113.0, 'alcohol': 2.5564, 'population': 183629.0, 'covid_percent': 2.2398422907057163}, {'country': 'Saint Vincent and the Grenadines', 'continent': 'North America', 'total_cases': 1692.0, 'alcohol': 1.8243, 'population': 110947.0, 'covid_percent': 1.525052502546261}, {'country': 'Samoa', 'continent': 'Oceania', 'total_cases': 3.0, 'alcohol': 0.521, 'population': 198410.0, 'covid_percent': 0.0015120205634796633}, {'country': 'Sao Tome and Principe', 'continent': 'Africa', 'total_cases': 2123.0, 'alcohol': 0.7034, 'population': 219161.0, 'covid_percent': 0.9686942476079229}, {'country': 'Saudi Arabia', 'continent': 'Asia', 'total_cases': 384271.0, 'alcohol': 0.0, 'population': 34813867.0, 'covid_percent': 1.1037871776783659}, {'country': 'Senegal', 'continent': 'Africa', 'total_cases': 37541.0, 'alcohol': 0.0766, 'population': 16743930.0, 'covid_percent': 0.22420662293738686}, {'country': 'Serbia', 'continent': 'Europe', 'total_cases': 542209.0, 'alcohol': 2.5678, 'population': 6804596.0, 'covid_percent': 7.968276147474443}, {'country': 'Sierra Leone', 'continent': 'Africa', 'total_cases': 3947.0, 'alcohol': 0.1021, 'population': 7976985.0, 'covid_percent': 0.0494798473358042}, {'country': 'Slovakia', 'continent': 'Europe', 'total_cases': 346149.0, 'alcohol': 2.835, 'population': 5459643.0, 'covid_percent': 6.340139822329043}, {'country': 'Slovenia', 'continent': 'Europe', 'total_cases': 204482.0, 'alcohol': 2.2372, 'population': 2078932.0, 'covid_percent': 9.835915749048068}, {'country': 'Solomon Islands', 'continent': 'Oceania', 'total_cases': 18.0, 'alcohol': 0.2697, 'population': 686878.0, 'covid_percent': 0.002620552703682459}, {'country': 'South Africa', 'continent': 'Africa', 'total_cases': 1535423.0, 'alcohol': 2.2875, 'population': 59308690.0, 'covid_percent': 2.588866825417995}, {'country': 'Spain', 'continent': 'Europe', 'total_cases': 3212332.0, 'alcohol': 2.4163, 'population': 46754783.0, 'covid_percent': 6.87059546399777}, {'country': 'Sri Lanka', 'continent': 'Asia', 'total_cases': 89497.0, 'alcohol': 0.2105, 'population': 21413250.0, 'covid_percent': 0.41795150199059}, {'country': 'Sudan', 'continent': 'Africa', 'total_cases': 30989.0, 'alcohol': 0.0, 'population': 43849269.0, 'covid_percent': 0.07067164563222252}, {'country': 'Suriname', 'continent': 'South America', 'total_cases': 9055.0, 'alcohol': 1.4479, 'population': 586634.0, 'covid_percent': 1.5435518568647573}, {'country': 'Sweden', 'continent': 'Europe', 'total_cases': 744272.0, 'alcohol': 2.2981, 'population': 10099270.0, 'covid_percent': 7.369562354506811}, {'country': 'Switzerland', 'continent': 'Europe', 'total_cases': 580609.0, 'alcohol': 2.3293, 'population': 8654618.0, 'covid_percent': 6.708661202608828}, {'country': 'Tajikistan', 'continent': 'Asia', 'total_cases': 13308.0, 'alcohol': 0.1427, 'population': 9537642.0, 'covid_percent': 0.13953134328170422}, {'country': 'Thailand', 'continent': 'Asia', 'total_cases': 27594.0, 'alcohol': 2.1401, 'population': 69799978.0, 'covid_percent': 0.03953296374964473}, {'country': 'Togo', 'continent': 'Africa', 'total_cases': 8695.0, 'alcohol': 0.2882, 'population': 8278737.0, 'covid_percent': 0.10502809788497931}, {'country': 'Trinidad and Tobago', 'continent': 'North America', 'total_cases': 7821.0, 'alcohol': 0.8874, 'population': 1399491.0, 'covid_percent': 0.5588460375950971}, {'country': 'Tunisia', 'continent': 'Africa', 'total_cases': 244776.0, 'alcohol': 0.2452, 'population': 11818618.0, 'covid_percent': 2.071105098751817}, {'country': 'Turkey', 'continent': 'Asia', 'total_cases': 2971633.0, 'alcohol': 0.3107, 'population': 84339067.0, 'covid_percent': 3.523435942206949}, {'country': 'Uganda', 'continent': 'Africa', 'total_cases': 40651.0, 'alcohol': 1.7949, 'population': 45741000.0, 'covid_percent': 0.08887212785028749}, {'country': 'Ukraine', 'continent': 'Europe', 'total_cases': 1569596.0, 'alcohol': 1.5319, 'population': 43733759.0, 'covid_percent': 3.588980311525474}, {'country': 'United Arab Emirates', 'continent': 'Asia', 'total_cases': 436625.0, 'alcohol': 0.0, 'population': 9890400.0, 'covid_percent': 4.414634392946696}, {'country': 'United Kingdom', 'continent': 'Europe', 'total_cases': 4299200.0, 'alcohol': 2.217, 'population': 67886004.0, 'covid_percent': 6.332969605929375}, {'country': 'Uruguay', 'continent': 'South America', 'total_cases': 78401.0, 'alcohol': 1.3481, 'population': 3473727.0, 'covid_percent': 2.256970683073252}, {'country': 'Uzbekistan', 'continent': 'Asia', 'total_cases': 81095.0, 'alcohol': 0.6785, 'population': 33469199.0, 'covid_percent': 0.2422974030540737}, {'country': 'Vanuatu', 'continent': 'Oceania', 'total_cases': 3.0, 'alcohol': 0.2668, 'population': 307150.0, 'covid_percent': 0.0009767214715936839}, {'country': 'Vietnam', 'continent': 'Asia', 'total_cases': 2571.0, 'alcohol': 0.715, 'population': 97338583.0, 'covid_percent': 0.002641295898051033}, {'country': 'Yemen', 'continent': 'Asia', 'total_cases': 3217.0, 'alcohol': 0.0, 'population': 29825968.0, 'covid_percent': 0.010785903076138215}, {'country': 'Zambia', 'continent': 'Africa', 'total_cases': 86059.0, 'alcohol': 1.1925, 'population': 18383956.0, 'covid_percent': 0.468120136928091}, {'country': 'Zimbabwe', 'continent': 'Africa', 'total_cases': 36652.0, 'alcohol': 1.4269, 'population': 14862927.0, 'covid_percent': 0.24660014814040332}]\n",
              "  d3.select(\"div#final\").selectAll(\"*\").remove()\n",
              " \n",
              "  const width = 700\n",
              "  const height = 600\n",
              "  const margin = 60 \n",
              " \n",
              "  data = data.map(d=> ({country:d.country, continent:d.continent, total_cases:d.total_cases, alcohol:d.alcohol, population:d.population, covid_percent:d.covid_percent }))\n",
              "\n",
              "  const y = d3.scaleLinear().range([height-margin, margin]).domain(d3.extent(data, (d,i) => d.covid_percent))\n",
              "  const x = d3.scaleLinear().range([margin, width-margin]).domain(d3.extent(data, (d,i)=>d.alcohol))\n",
              "  const colorscale = d3.scaleOrdinal().range([\"#3366cc\", \"#dc3912\", \"#ff9900\", \"#109618\", \"#990099\", \"#0099c6\"]).domain(d3.extent(data, (d,i) => d.continent))\n",
              "\n",
              "\n",
              "  const svg = d3.select('div#output-area').append('svg')\n",
              "    .attr(\"width\", width)\n",
              "    .attr(\"height\", height)\n",
              "\n",
              "  const xAxis = d3.axisBottom().scale(x)\n",
              "\n",
              "  svg.append(\"g\")\n",
              "    .attr(\"class\", \"axis\")\n",
              "    .attr(\"transform\", \"translate(0,\" + (height-margin) + \")\")\n",
              "    .call(xAxis)\n",
              "\n",
              "  const yAxis = d3.axisLeft().scale(y)\n",
              "            \n",
              "  svg.append(\"g\")\n",
              "    .attr(\"class\", \"axis\")\n",
              "    .attr(\"transform\", \"translate(\" + margin + \",0)\")\n",
              "    .call(yAxis)\n",
              "\n",
              "  svg.selectAll(\"circle\")\n",
              "    .data(data)\n",
              "    .join(\"circle\")\n",
              "    .attr(\"cx\", (d,i) => x(d.alcohol))\n",
              "    .attr(\"cy\", (d,i)=> y(d.covid_percent))\n",
              "    .attr(\"r\", 0)\n",
              "    .transition()\n",
              "    .duration(1000)\n",
              "    .attr(\"r\", (d,i) => 5)\n",
              "    .append(\"title\")\n",
              "    .text(d=>d.location)\n",
              "\n"
            ],
            "text/plain": [
              "<IPython.core.display.Javascript object>"
            ]
          },
          "metadata": {
            "tags": []
          }
        }
      ]
    },
    {
      "cell_type": "markdown",
      "metadata": {
        "id": "XFeK4_qK9HjN"
      },
      "source": [
        "## Legend"
      ]
    }
  ]
}
